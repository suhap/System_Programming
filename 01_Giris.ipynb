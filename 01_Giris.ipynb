{
  "nbformat": 4,
  "nbformat_minor": 0,
  "metadata": {
    "colab": {
      "name": "Untitled0.ipynb",
      "version": "0.3.2",
      "provenance": [],
      "include_colab_link": true
    },
    "kernelspec": {
      "name": "python3",
      "display_name": "Python 3"
    }
  },
  "cells": [
    {
      "cell_type": "markdown",
      "metadata": {
        "id": "view-in-github",
        "colab_type": "text"
      },
      "source": [
        "<a href=\"https://colab.research.google.com/github/suhap/System_Programming/blob/master/01_Giris.ipynb\" target=\"_parent\"><img src=\"https://colab.research.google.com/assets/colab-badge.svg\" alt=\"Open In Colab\"/></a>"
      ]
    },
    {
      "cell_type": "markdown",
      "metadata": {
        "id": "AD5W18NzPLKV",
        "colab_type": "text"
      },
      "source": [
        "# Kaynaklar\n",
        "Ders kapsamında texas austin üniversitesinde okutulan \"Embedded Systems - Shape The World\" isimli derse ait ders notları takip edilecektir. Bu derse ait notları \"http://users.ece.utexas.edu/~valvano/Volume1/E-Book/\" adresinden edinebilirsiniz. Ayrıca aynı ders çevrimiçi ders verilen edx sitesinde de bulunmaktadır. Bu site üzerinden ders malzemesine ulaşmak için ise \"https://www.edx.org/course/embedded-systems-shape-world-utaustinx-ut-6-02x\" adresini kullanabilirsiniz. \n"
      ]
    }
  ]
}