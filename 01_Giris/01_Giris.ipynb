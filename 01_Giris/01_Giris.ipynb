{
  "nbformat": 4,
  "nbformat_minor": 0,
  "metadata": {
    "colab": {
      "name": "01_Giris.ipynb",
      "version": "0.3.2",
      "provenance": [],
      "include_colab_link": true
    },
    "kernelspec": {
      "name": "python3",
      "display_name": "Python 3"
    }
  },
  "cells": [
    {
      "cell_type": "markdown",
      "metadata": {
        "id": "view-in-github",
        "colab_type": "text"
      },
      "source": [
        "<a href=\"https://colab.research.google.com/github/suhap/System_Programming/blob/master/01_Giris/01_Giris.ipynb\" target=\"_parent\"><img src=\"https://colab.research.google.com/assets/colab-badge.svg\" alt=\"Open In Colab\"/></a>"
      ]
    },
    {
      "cell_type": "markdown",
      "metadata": {
        "id": "AD5W18NzPLKV",
        "colab_type": "text"
      },
      "source": [
        "# Kaynaklar\n",
        "Ders kapsamında texas austin üniversitesinde okutulan \"Embedded Systems - Shape The World\" isimli derse ait ders notları takip edilecektir. Bu derse ait notları \"http://users.ece.utexas.edu/~valvano/Volume1/E-Book/\" adresinden edinebilirsiniz. Ayrıca aynı ders çevrimiçi ders verilen edx sitesinde de bulunmaktadır. Bu site üzerinden ders malzemesine ulaşmak için ise \"https://www.edx.org/course/embedded-systems-shape-world-utaustinx-ut-6-02x\" adresini kullanabilirsiniz. \n",
        "#Konular\n",
        "1. Giris\n",
        "Günümüzde, bilgisayarlardan cep telefonlarına, akıllı saatlerden oyun konsollarına, beyaz eşyalardan ağ cihazlarına, akıllı şehirlerden tibbi görüntüleme sistemlerine kadar bir çok sistem gömülü sistem parçaları içermektedir. Dolayısıyla gömülü sistemleri programlama metodları gittike önemlenen bir konu olmaktadır. Bu ders kapsamında özellikle IOT(internet of thigs) ile önemini artıran gömülü sistemlerin nasıl kodlanacağı anlatılacaktır. \n",
        "Gömülü sistem kodlamaya başlamadan önce elektirik ve lojik kavramların iyice anlaşılması gerekmektedir. \n",
        "2. C Diline Giriş\n",
        "Özellikle C Dilinin bit işlemlerini yapabilen komutlarını ve bu komutların nasıl kullanılacağı bu başlılk kapsamında incelenecektir. \n",
        "3. Mikrokontrolcü Portları\n",
        "Bu başlık kapsamında özellikle kullanılan Stellaris veya Tiva C kartlarının portlarına erişim ve bu portları kullanma konusu üzerinde durulacaktır. \n",
        "4. Yedi Parçalı Gösterge \n",
        "Tiva C/Stellaris "
      ]
    }
  ]
}