{
  "nbformat": 4,
  "nbformat_minor": 0,
  "metadata": {
    "colab": {
      "name": "MikrokontrolcuPortlari_2.ipynb",
      "version": "0.3.2",
      "provenance": [],
      "include_colab_link": true
    },
    "kernelspec": {
      "name": "python3",
      "display_name": "Python 3"
    }
  },
  "cells": [
    {
      "cell_type": "markdown",
      "metadata": {
        "id": "view-in-github",
        "colab_type": "text"
      },
      "source": [
        "<a href=\"https://colab.research.google.com/github/suhap/System_Programming/blob/master/MikrokontrolcuPortlari_2.ipynb\" target=\"_parent\"><img src=\"https://colab.research.google.com/assets/colab-badge.svg\" alt=\"Open In Colab\"/></a>"
      ]
    },
    {
      "metadata": {
        "id": "5sOqY7M0IKQO",
        "colab_type": "text"
      },
      "cell_type": "markdown",
      "source": [
        "#Port D’nin dışarıdan led bağlanarak kullanılması\n",
        "PD0 ve PD1’e birer led bağlı."
      ]
    },
    {
      "metadata": {
        "id": "dfefTOkVIU2w",
        "colab_type": "code",
        "colab": {}
      },
      "cell_type": "code",
      "source": [
        "#include <stdint.h>\n",
        "#include \"inc/tm4c123gh6pm.h\"\n",
        "// stellaris #include \"inc/lm4f120h5qr.h\"\n",
        "\n",
        "void init_port_D() {\n",
        "\tvolatile unsigned long delay;\n",
        "\tSYSCTL_RCGC2_R |= SYSCTL_RCGC2_GPIOD; // Port D’yi aktiflestir\n",
        "\tdelay = SYSCTL_RCGC2_R;  \t// zaman gecirmek icin\n",
        "\tGPIO_PORTD_DIR_R |= 0x0F;\t// PD 3,2,1,0 pinlerini cikis yap\n",
        "\tGPIO_PORTD_AFSEL_R &= ~0x0F; // PD 3,2,1,0 pinlerini alternatif fonksinunu 0 yap\n",
        "\tGPIO_PORTD_DEN_R |= 0x0F;\t// PD 3,2,1,0 pinlerini aktiflestir\n",
        "}\n",
        "\n",
        "int main() {\n",
        "\tvolatile unsigned long delay;\n",
        "\n",
        "\tinit_port_D();\n",
        "\n",
        "\twhile (1) {\n",
        "   \tGPIO_PORTD_DATA_R |= 0b0010; // PD1 i 1 yap\n",
        "   \tGPIO_PORTD_DATA_R &= ~0b0001; // PD0 i 0 yap\n",
        "\n",
        "   \tfor (delay = 0 ; delay < 400000 ; delay++)\n",
        "       \t\t/* bos dongu */;\n",
        "\n",
        "   \tGPIO_PORTD_DATA_R |= 0b0001; // PD0 i 1 yap\n",
        "   \tGPIO_PORTD_DATA_R &= ~0b0010; // PD1 i 0 yap\n",
        "\n",
        "   \tfor (delay = 0 ; delay < 400000 ; delay++)\n",
        "       \t\t/* bos dongu */;\n",
        "\t}\n",
        "}"
      ],
      "execution_count": 0,
      "outputs": []
    }
  ]
}