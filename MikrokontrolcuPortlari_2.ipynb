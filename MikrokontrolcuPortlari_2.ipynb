{
  "nbformat": 4,
  "nbformat_minor": 0,
  "metadata": {
    "colab": {
      "name": "MikrokontrolcuPortlari_2.ipynb",
      "version": "0.3.2",
      "provenance": [],
      "include_colab_link": true
    },
    "kernelspec": {
      "name": "python3",
      "display_name": "Python 3"
    }
  },
  "cells": [
    {
      "cell_type": "markdown",
      "metadata": {
        "id": "view-in-github",
        "colab_type": "text"
      },
      "source": [
        "<a href=\"https://colab.research.google.com/github/suhap/System_Programming/blob/master/MikrokontrolcuPortlari_2.ipynb\" target=\"_parent\"><img src=\"https://colab.research.google.com/assets/colab-badge.svg\" alt=\"Open In Colab\"/></a>"
      ]
    },
    {
      "metadata": {
        "id": "5sOqY7M0IKQO",
        "colab_type": "text"
      },
      "cell_type": "markdown",
      "source": [
        "#Port D’nin dışarıdan led bağlanarak kullanılması\n",
        "PD0 ve PD1’e birer led bağlı."
      ]
    },
    {
      "metadata": {
        "id": "dfefTOkVIU2w",
        "colab_type": "code",
        "colab": {}
      },
      "cell_type": "code",
      "source": [
        "'''\n",
        "#include <stdint.h>\n",
        "#include \"inc/tm4c123gh6pm.h\"\n",
        "// stellaris #include \"inc/lm4f120h5qr.h\"\n",
        "\n",
        "void init_port_D() {\n",
        "\tvolatile unsigned long delay;\n",
        "\tSYSCTL_RCGC2_R |= SYSCTL_RCGC2_GPIOD; // Port D yi aktiflestir\n",
        "\tdelay = SYSCTL_RCGC2_R;  \t// zaman gecirmek icin\n",
        "\tGPIO_PORTD_DIR_R |= 0x0F;\t// PD 3,2,1,0 pinlerini cikis yap\n",
        "\tGPIO_PORTD_AFSEL_R &= ~0x0F; // PD 3,2,1,0 pinlerini alternatif fonksinunu 0 yap\n",
        "\tGPIO_PORTD_DEN_R |= 0x0F;\t// PD 3,2,1,0 pinlerini aktiflestir\n",
        "}\n",
        "\n",
        "int main() {\n",
        "\tvolatile unsigned long delay;\n",
        "\n",
        "\tinit_port_D();\n",
        "\n",
        "\twhile (1) {\n",
        "   \tGPIO_PORTD_DATA_R |= 0b0010; // PD1 i 1 yap\n",
        "   \tGPIO_PORTD_DATA_R &= ~0b0001; // PD0 i 0 yap\n",
        "\n",
        "   \tfor (delay = 0 ; delay < 400000 ; delay++)\n",
        "       \t\t/* bos dongu */;\n",
        "\n",
        "   \tGPIO_PORTD_DATA_R |= 0b0001; // PD0 i 1 yap\n",
        "   \tGPIO_PORTD_DATA_R &= ~0b0010; // PD1 i 0 yap\n",
        "\n",
        "   \tfor (delay = 0 ; delay < 400000 ; delay++)\n",
        "       \t\t/* bos dongu */;\n",
        "\t}\n",
        "}\n",
        "'''\n"
      ],
      "execution_count": 0,
      "outputs": []
    },
    {
      "metadata": {
        "id": "6Hk1HpFLKfJ0",
        "colab_type": "text"
      },
      "cell_type": "markdown",
      "source": [
        "![alt text](https://github.com/suhap/System_Programming/blob/master/mikrokontrolcuportlari2_1.PNG?raw=true)"
      ]
    },
    {
      "metadata": {
        "id": "M2exAa41O_dP",
        "colab_type": "text"
      },
      "cell_type": "markdown",
      "source": [
        "# Trafik Işığı Uygulaması\n",
        "PD0’e kırmızı, PD1’e sarı (şekilde mavi led), PD2’ye yeşil led bağlı.\n"
      ]
    },
    {
      "metadata": {
        "id": "YHp9gCu-PLX9",
        "colab_type": "code",
        "colab": {}
      },
      "cell_type": "code",
      "source": [
        "#include <stdint.h>\n",
        "#include \"inc/tm4c123gh6pm.h\"\n",
        "// stellaris #include \"inc/lm4f120h5qr.h\"\n",
        "\n",
        "void init_port_D() {\n",
        "\tvolatile unsigned long delay;\n",
        "\tSYSCTL_RCGC2_R |= SYSCTL_RCGC2_GPIOD; // Port D’yi aktiflestir\n",
        "\tdelay = SYSCTL_RCGC2_R;  \t// zaman gecirmek icin\n",
        "\tGPIO_PORTD_DIR_R |= 0x0F;\t// PD 3,2,1,0 pinlerini cikis yap\n",
        "\tGPIO_PORTD_AFSEL_R &= ~0x0F; // PD 3,2,1,0 pinlerini alternatif fonksinunu 0 yap\n",
        "\tGPIO_PORTD_DEN_R |= 0x0F;\t// PD 3,2,1,0 pinlerini aktiflestir\n",
        "}\n",
        "\n",
        "#define BIT_SET(PORT, PIN) do { \\\n",
        "\tPORT |= 1<<PIN; \\\n",
        "} while (0)\n",
        "\n",
        "#define BIT_RESET(PORT, PIN) do { \\\n",
        "\tPORT &= ~(1<<PIN); \\\n",
        "} while (0)\n",
        "\n",
        "#define PORTD (GPIO_PORTD_DATA_R)\n",
        "\n",
        "int main() {\n",
        "\tvolatile unsigned long delay;\n",
        "\n",
        "\tinit_port_D();\n",
        "\n",
        "\twhile (1) {\n",
        "  \t// KIRMIZI=1, SARI=0, YESIL=0\n",
        "  \tBIT_SET(PORTD, 1);\n",
        "   \tBIT_RESET(PORTD, 2);\n",
        "   \tBIT_RESET(PORTD, 3);\n",
        "   \tfor (delay = 0 ; delay < 4000000 ; delay++)\n",
        "  \t\t /* bos dongu */;\n",
        "\n",
        "   \t// KIRMIZI=1, SARI=1, YESIL=0\n",
        "  \tBIT_SET(PORTD, 1);\n",
        "   \tBIT_SET(PORTD, 2);\n",
        "   \tBIT_RESET(PORTD, 3);\n",
        "  \tfor (delay = 0 ; delay < 4000000 ; delay++)\n",
        "  \t\t /* bos dongu */;\n",
        "\n",
        "  \t// KIRMIZI=0, SARI=0, YESIL=1\n",
        "  \tBIT_RESET(PORTD, 1);\n",
        "   \tBIT_RESET(PORTD, 2);\n",
        "   \tBIT_SET(PORTD, 3);\n",
        "  \tfor (delay = 0 ; delay < 4000000 ; delay++)\n",
        "  \t\t /* bos dongu */;\n",
        "\n",
        "  \t// SARI\n",
        "  \tBIT_RESET(PORTD, 1);\n",
        "   \tBIT_SET(PORTD, 2);\n",
        "   \tBIT_RESET(PORTD, 3);\n",
        "  \t for (delay = 0 ; delay < 4000000 ; delay++)\n",
        "  \t\t /* bos dongu */;\n",
        "\n",
        "\t}\n",
        "}"
      ],
      "execution_count": 0,
      "outputs": []
    },
    {
      "metadata": {
        "id": "qv80zBVEZhaC",
        "colab_type": "text"
      },
      "cell_type": "markdown",
      "source": [
        "![alt text](https://github.com/suhap/System_Programming/blob/master/mikrokontrolcuportlari2_2.PNG?raw=true)"
      ]
    },
    {
      "metadata": {
        "id": "xSj7aNl6Zqr1",
        "colab_type": "text"
      },
      "cell_type": "markdown",
      "source": [
        "![alt text](https://github.com/suhap/System_Programming/blob/master/mikrokontrolcuportlari2_3.PNG?raw=true)"
      ]
    },
    {
      "metadata": {
        "id": "1SvSw3zGZzic",
        "colab_type": "text"
      },
      "cell_type": "markdown",
      "source": [
        "![alt text](https://github.com/suhap/System_Programming/blob/master/mikrokontrolcuportlari2_4.PNG?raw=true)"
      ]
    }
  ]
}